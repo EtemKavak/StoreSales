{
 "cells": [
  {
   "cell_type": "code",
   "execution_count": 1,
   "metadata": {},
   "outputs": [],
   "source": [
    "from IPython.display import FileLink, FileLinks"
   ]
  },
  {
   "cell_type": "code",
   "execution_count": 2,
   "metadata": {},
   "outputs": [
    {
     "data": {
      "text/html": [
       "./<br>\n",
       "&nbsp;&nbsp;<a href='./rossman_fastai.ipynb' target='_blank'>rossman_fastai.ipynb</a><br>\n",
       "&nbsp;&nbsp;<a href='./rossman-pytorch.ipynb' target='_blank'>rossman-pytorch.ipynb</a><br>\n",
       "&nbsp;&nbsp;<a href='./rossman-port.ipynb' target='_blank'>rossman-port.ipynb</a><br>\n",
       "&nbsp;&nbsp;<a href='./rossman_no_closed.ipynb' target='_blank'>rossman_no_closed.ipynb</a><br>\n",
       "&nbsp;&nbsp;<a href='./lesson3-rossman.ipynb' target='_blank'>lesson3-rossman.ipynb</a><br>\n",
       "&nbsp;&nbsp;<a href='./Create file links.ipynb' target='_blank'>Create file links.ipynb</a><br>\n",
       "&nbsp;&nbsp;<a href='./rossman.ipynb' target='_blank'>rossman.ipynb</a><br>\n",
       "./.ipynb_checkpoints/<br>\n",
       "&nbsp;&nbsp;<a href='./.ipynb_checkpoints/rossman_no_closed-checkpoint.ipynb' target='_blank'>rossman_no_closed-checkpoint.ipynb</a><br>\n",
       "&nbsp;&nbsp;<a href='./.ipynb_checkpoints/Create file links-checkpoint.ipynb' target='_blank'>Create file links-checkpoint.ipynb</a><br>\n",
       "&nbsp;&nbsp;<a href='./.ipynb_checkpoints/rossman_fastai-checkpoint.ipynb' target='_blank'>rossman_fastai-checkpoint.ipynb</a><br>\n",
       "./rossmann/<br>\n",
       "&nbsp;&nbsp;<a href='./rossmann/sample_submission.csv' target='_blank'>sample_submission.csv</a><br>\n",
       "&nbsp;&nbsp;<a href='./rossmann/store.csv' target='_blank'>store.csv</a><br>\n",
       "&nbsp;&nbsp;<a href='./rossmann/df.csv' target='_blank'>df.csv</a><br>\n",
       "&nbsp;&nbsp;<a href='./rossmann/state_names.csv' target='_blank'>state_names.csv</a><br>\n",
       "&nbsp;&nbsp;<a href='./rossmann/googletrend.csv' target='_blank'>googletrend.csv</a><br>\n",
       "&nbsp;&nbsp;<a href='./rossmann/weather.csv' target='_blank'>weather.csv</a><br>\n",
       "&nbsp;&nbsp;<a href='./rossmann/store_states.csv' target='_blank'>store_states.csv</a><br>\n",
       "&nbsp;&nbsp;<a href='./rossmann/df_te' target='_blank'>df_te</a><br>\n",
       "&nbsp;&nbsp;<a href='./rossmann/joined' target='_blank'>joined</a><br>\n",
       "&nbsp;&nbsp;<a href='./rossmann/joined_test' target='_blank'>joined_test</a><br>\n",
       "&nbsp;&nbsp;<a href='./rossmann/df_tr' target='_blank'>df_tr</a><br>\n",
       "&nbsp;&nbsp;<a href='./rossmann/train.csv' target='_blank'>train.csv</a><br>\n",
       "&nbsp;&nbsp;<a href='./rossmann/test.csv' target='_blank'>test.csv</a><br>\n",
       "./rossmann/models/<br>\n",
       "&nbsp;&nbsp;<a href='./rossmann/models/val_without_closed.h5' target='_blank'>val_without_closed.h5</a><br>\n",
       "&nbsp;&nbsp;<a href='./rossmann/models/val_with_closed.h5' target='_blank'>val_with_closed.h5</a><br>\n",
       "./rossmann/tmp/<br>\n",
       "&nbsp;&nbsp;<a href='./rossmann/tmp/sub_with.csv' target='_blank'>sub_with.csv</a><br>\n",
       "&nbsp;&nbsp;<a href='./rossmann/tmp/sub_wo_closed.csv' target='_blank'>sub_wo_closed.csv</a><br>"
      ],
      "text/plain": [
       "./\n",
       "  rossman_fastai.ipynb\n",
       "  rossman-pytorch.ipynb\n",
       "  rossman-port.ipynb\n",
       "  rossman_no_closed.ipynb\n",
       "  lesson3-rossman.ipynb\n",
       "  Create file links.ipynb\n",
       "  rossman.ipynb\n",
       "./.ipynb_checkpoints/\n",
       "  rossman_no_closed-checkpoint.ipynb\n",
       "  Create file links-checkpoint.ipynb\n",
       "  rossman_fastai-checkpoint.ipynb\n",
       "./rossmann/\n",
       "  sample_submission.csv\n",
       "  store.csv\n",
       "  df.csv\n",
       "  state_names.csv\n",
       "  googletrend.csv\n",
       "  weather.csv\n",
       "  store_states.csv\n",
       "  df_te\n",
       "  joined\n",
       "  joined_test\n",
       "  df_tr\n",
       "  train.csv\n",
       "  test.csv\n",
       "./rossmann/models/\n",
       "  val_without_closed.h5\n",
       "  val_with_closed.h5\n",
       "./rossmann/tmp/\n",
       "  sub_with.csv\n",
       "  sub_wo_closed.csv"
      ]
     },
     "execution_count": 2,
     "metadata": {},
     "output_type": "execute_result"
    }
   ],
   "source": [
    "FileLinks('.')"
   ]
  },
  {
   "cell_type": "code",
   "execution_count": null,
   "metadata": {},
   "outputs": [],
   "source": []
  }
 ],
 "metadata": {
  "kernelspec": {
   "display_name": "Python 3",
   "language": "python",
   "name": "python3"
  },
  "language_info": {
   "codemirror_mode": {
    "name": "ipython",
    "version": 3
   },
   "file_extension": ".py",
   "mimetype": "text/x-python",
   "name": "python",
   "nbconvert_exporter": "python",
   "pygments_lexer": "ipython3",
   "version": "3.6.5"
  }
 },
 "nbformat": 4,
 "nbformat_minor": 2
}
